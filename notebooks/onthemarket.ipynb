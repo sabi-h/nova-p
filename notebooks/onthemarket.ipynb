{
 "cells": [
  {
   "cell_type": "code",
   "execution_count": 67,
   "metadata": {},
   "outputs": [],
   "source": [
    "from datetime import datetime\n",
    "import re\n",
    "\n",
    "import matplotlib.pyplot as plt\n",
    "import numpy as np\n",
    "import pandas as pd\n",
    "import seaborn as sns\n",
    "\n",
    "from IPython.display import display\n",
    "\n",
    "pd.set_option('display.max_colwidth', 0)"
   ]
  },
  {
   "cell_type": "code",
   "execution_count": 31,
   "metadata": {},
   "outputs": [
    {
     "data": {
      "text/html": [
       "<div>\n",
       "<style scoped>\n",
       "    .dataframe tbody tr th:only-of-type {\n",
       "        vertical-align: middle;\n",
       "    }\n",
       "\n",
       "    .dataframe tbody tr th {\n",
       "        vertical-align: top;\n",
       "    }\n",
       "\n",
       "    .dataframe thead th {\n",
       "        text-align: right;\n",
       "    }\n",
       "</style>\n",
       "<table border=\"1\" class=\"dataframe\">\n",
       "  <thead>\n",
       "    <tr style=\"text-align: right;\">\n",
       "      <th></th>\n",
       "      <th>outward_code</th>\n",
       "      <th>district_name</th>\n",
       "    </tr>\n",
       "  </thead>\n",
       "  <tbody>\n",
       "    <tr>\n",
       "      <th>0</th>\n",
       "      <td>E1</td>\n",
       "      <td>Head district</td>\n",
       "    </tr>\n",
       "    <tr>\n",
       "      <th>1</th>\n",
       "      <td>E2</td>\n",
       "      <td>Bethnal Green</td>\n",
       "    </tr>\n",
       "  </tbody>\n",
       "</table>\n",
       "</div>"
      ],
      "text/plain": [
       "  outward_code  district_name\n",
       "0  E1           Head district\n",
       "1  E2           Bethnal Green"
      ]
     },
     "execution_count": 31,
     "metadata": {},
     "output_type": "execute_result"
    }
   ],
   "source": [
    "# Get outward codes\n",
    "fp = f'../data/misc/london-outward-codes.csv'\n",
    "outward_codes = pd.read_csv(fp)\n",
    "\n",
    "outward_codes.head(2)"
   ]
  },
  {
   "cell_type": "code",
   "execution_count": 32,
   "metadata": {},
   "outputs": [
    {
     "data": {
      "text/html": [
       "<div>\n",
       "<style scoped>\n",
       "    .dataframe tbody tr th:only-of-type {\n",
       "        vertical-align: middle;\n",
       "    }\n",
       "\n",
       "    .dataframe tbody tr th {\n",
       "        vertical-align: top;\n",
       "    }\n",
       "\n",
       "    .dataframe thead th {\n",
       "        text-align: right;\n",
       "    }\n",
       "</style>\n",
       "<table border=\"1\" class=\"dataframe\">\n",
       "  <thead>\n",
       "    <tr style=\"text-align: right;\">\n",
       "      <th></th>\n",
       "      <th>images-count</th>\n",
       "      <th>price-qualifier</th>\n",
       "      <th>new-home-flag</th>\n",
       "      <th>display_address</th>\n",
       "      <th>cover-images-default</th>\n",
       "      <th>cover-images-webp</th>\n",
       "      <th>floorplans-count</th>\n",
       "      <th>summary</th>\n",
       "      <th>property-labels</th>\n",
       "      <th>property-title</th>\n",
       "      <th>...</th>\n",
       "      <th>floorplans?</th>\n",
       "      <th>for-sale?</th>\n",
       "      <th>agent-base-contact-url</th>\n",
       "      <th>agent-contact-url</th>\n",
       "      <th>agent-details-url</th>\n",
       "      <th>agent-development?</th>\n",
       "      <th>agent-display-logo-url</th>\n",
       "      <th>agent-id</th>\n",
       "      <th>agent-name</th>\n",
       "      <th>agent-telephone</th>\n",
       "    </tr>\n",
       "  </thead>\n",
       "  <tbody>\n",
       "    <tr>\n",
       "      <th>0</th>\n",
       "      <td>13.0</td>\n",
       "      <td>Offers in excess of</td>\n",
       "      <td>True</td>\n",
       "      <td>The Atlas Building, 145 City Road, London, EC1V</td>\n",
       "      <td>https://media.onthemarket.com/properties/8415459/1332643598/image-0-480x320.jpg</td>\n",
       "      <td>https://media.onthemarket.com/properties/8415459/1332643598/image-0-480x320.webp</td>\n",
       "      <td>1.0</td>\n",
       "      <td>A well-presented, 2 bedroom apartment in the Atlas Building, Old Street. EC1</td>\n",
       "      <td>['Online viewing', 'New build']</td>\n",
       "      <td>2 bedroom apartment for sale</td>\n",
       "      <td>...</td>\n",
       "      <td>True</td>\n",
       "      <td>True</td>\n",
       "      <td>/agents/contact/8415459/</td>\n",
       "      <td>/agents/contact/8415459/?form-name=details-contact</td>\n",
       "      <td>/agents/branch/jll-city/</td>\n",
       "      <td>False</td>\n",
       "      <td>https://media.onthemarket.com/agents/companies/547/170331113156299/logo-100x65.png</td>\n",
       "      <td>22221</td>\n",
       "      <td>JLL - City</td>\n",
       "      <td>020 8022 7226</td>\n",
       "    </tr>\n",
       "  </tbody>\n",
       "</table>\n",
       "<p>1 rows × 24 columns</p>\n",
       "</div>"
      ],
      "text/plain": [
       "   images-count      price-qualifier  new-home-flag  \\\n",
       "0  13.0          Offers in excess of  True            \n",
       "\n",
       "                                   display_address  \\\n",
       "0  The Atlas Building, 145 City Road, London, EC1V   \n",
       "\n",
       "                                                              cover-images-default  \\\n",
       "0  https://media.onthemarket.com/properties/8415459/1332643598/image-0-480x320.jpg   \n",
       "\n",
       "                                                                  cover-images-webp  \\\n",
       "0  https://media.onthemarket.com/properties/8415459/1332643598/image-0-480x320.webp   \n",
       "\n",
       "   floorplans-count  \\\n",
       "0  1.0                \n",
       "\n",
       "                                                                        summary  \\\n",
       "0  A well-presented, 2 bedroom apartment in the Atlas Building, Old Street. EC1   \n",
       "\n",
       "                   property-labels                property-title  ...  \\\n",
       "0  ['Online viewing', 'New build']  2 bedroom apartment for sale  ...   \n",
       "\n",
       "   floorplans? for-sale?    agent-base-contact-url  \\\n",
       "0  True         True      /agents/contact/8415459/   \n",
       "\n",
       "                                    agent-contact-url  \\\n",
       "0  /agents/contact/8415459/?form-name=details-contact   \n",
       "\n",
       "          agent-details-url  agent-development?  \\\n",
       "0  /agents/branch/jll-city/  False                \n",
       "\n",
       "                                                               agent-display-logo-url  \\\n",
       "0  https://media.onthemarket.com/agents/companies/547/170331113156299/logo-100x65.png   \n",
       "\n",
       "  agent-id  agent-name  agent-telephone  \n",
       "0  22221    JLL - City  020 8022 7226    \n",
       "\n",
       "[1 rows x 24 columns]"
      ]
     },
     "execution_count": 32,
     "metadata": {},
     "output_type": "execute_result"
    }
   ],
   "source": [
    "yyyymm = datetime.now().strftime('%Y%m')\n",
    "fp = f'../data/onthemarket/property_tiles/aggregated/{yyyymm}.csv'\n",
    "df = pd.read_csv(fp)\n",
    "df.head(1)"
   ]
  },
  {
   "cell_type": "code",
   "execution_count": 33,
   "metadata": {},
   "outputs": [
    {
     "data": {
      "text/plain": [
       "images-count              13                                                                                \n",
       "price-qualifier           Offers in excess of                                                               \n",
       "new-home-flag             True                                                                              \n",
       "display_address           The Atlas Building, 145 City Road, London, EC1V                                   \n",
       "cover-images-default      https://media.onthemarket.com/properties/8415459/1332643598/image-0-480x320.jpg   \n",
       "cover-images-webp         https://media.onthemarket.com/properties/8415459/1332643598/image-0-480x320.webp  \n",
       "floorplans-count          1                                                                                 \n",
       "summary                   A well-presented, 2 bedroom apartment in the Atlas Building, Old Street. EC1      \n",
       "property-labels           ['Online viewing', 'New build']                                                   \n",
       "property-title            2 bedroom apartment for sale                                                      \n",
       "id                        8415459                                                                           \n",
       "property-link             /details/8415459/                                                                 \n",
       "cover-image               https://media.onthemarket.com/properties/8415459/1332643598/image-0-480x320.jpg   \n",
       "price                     £950,000                                                                          \n",
       "floorplans?               True                                                                              \n",
       "for-sale?                 True                                                                              \n",
       "agent-base-contact-url    /agents/contact/8415459/                                                          \n",
       "agent-contact-url         /agents/contact/8415459/?form-name=details-contact                                \n",
       "agent-details-url         /agents/branch/jll-city/                                                          \n",
       "agent-development?        False                                                                             \n",
       "agent-display-logo-url    https://media.onthemarket.com/agents/companies/547/170331113156299/logo-100x65.png\n",
       "agent-id                  22221                                                                             \n",
       "agent-name                JLL - City                                                                        \n",
       "agent-telephone           020 8022 7226                                                                     \n",
       "Name: 0, dtype: object"
      ]
     },
     "execution_count": 33,
     "metadata": {},
     "output_type": "execute_result"
    }
   ],
   "source": [
    "df.iloc[0].T"
   ]
  },
  {
   "cell_type": "code",
   "execution_count": 28,
   "metadata": {},
   "outputs": [],
   "source": [
    "NUMBERS_MAP = {x:i+1 for i, x in enumerate(['one', 'two', 'three', 'four', 'five', 'six', 'seven', 'eight', 'nine', 'ten'])}\n",
    "def extract_bedrooms(text: str, numbers_map: dict) -> int:\n",
    "    r = '''\n",
    "    (one|two|three|four|five|six|seven|eight|nine|ten|\\d+)\n",
    "    [\\s-]?\n",
    "    bed\n",
    "    '''\n",
    "    items = re.findall(r, text, flags=re.VERBOSE | re.IGNORECASE)\n",
    "    if not items:\n",
    "        return 0\n",
    "\n",
    "    bedrooms = items[0]\n",
    "\n",
    "    if bedrooms in [str(x) for x in range(1, 11)]:\n",
    "        return int(bedrooms)\n",
    "\n",
    "    return numbers_map.get(bedrooms.lower(), 0)\n",
    "\n",
    "\n",
    "OUTWARD_CODES = outward_codes['outward_code'].to_list()\n",
    "def extract_outward_code(text, outward_codes):\n",
    "    text = text if text else ''\n",
    "    \n",
    "    found_codes = []\n",
    "    for outward_code in outward_codes:\n",
    "        if outward_code in text:\n",
    "            found_codes.append(outward_code)\n",
    "            \n",
    "    no_of_outward_codes = len(found_codes)\n",
    "\n",
    "    if no_of_outward_codes == 0:\n",
    "        result = None\n",
    "    \n",
    "    elif no_of_outward_codes == 1:\n",
    "        result = found_codes[0]\n",
    "        \n",
    "    else:\n",
    "        result = max(found_codes, key=len)\n",
    "\n",
    "    return result\n",
    "\n",
    "assert extract_outward_code('The Atlas Building, 145 City Road, London, EC1V', OUTWARD_CODES) == 'EC1'\n",
    "\n",
    "\n",
    "def extract_price(text) -> int:\n",
    "    text = text.replace(',', '').replace('£', '')\n",
    "    if text and text != 'nan':\n",
    "        return int(text)\n",
    "    return 0\n",
    "\n"
   ]
  },
  {
   "cell_type": "code",
   "execution_count": 41,
   "metadata": {},
   "outputs": [
    {
     "data": {
      "text/plain": [
       "(1812, 27)"
      ]
     },
     "execution_count": 41,
     "metadata": {},
     "output_type": "execute_result"
    }
   ],
   "source": [
    "# Create clean dataframe\n",
    "\n",
    "clean_df = df.copy()\n",
    "\n",
    "clean_df['outward_code'] = clean_df['display_address'].apply(lambda x: extract_outward_code(x, OUTWARD_CODES))\n",
    "clean_df['bedrooms'] = clean_df['summary'].apply(lambda x: extract_bedrooms(x, NUMBERS_MAP))\n",
    "clean_df['price_extracted'] = clean_df['price'].astype(str).apply(lambda x: extract_price(x))\n",
    "\n",
    "# Filter\n",
    "\n",
    "clean_df = clean_df[clean_df['price_extracted'] != 0]\n",
    "clean_df = clean_df[clean_df['bedrooms'] != 0]\n",
    "\n",
    "clean_df.shape"
   ]
  },
  {
   "cell_type": "code",
   "execution_count": 94,
   "metadata": {},
   "outputs": [
    {
     "data": {
      "image/png": "[encoded data removed]",
      "text/plain": [
       "<Figure size 1152x1152 with 1 Axes>"
      ]
     },
     "metadata": {
      "needs_background": "light"
     },
     "output_type": "display_data"
    }
   ],
   "source": [
    "tmp = (\n",
    "    clean_df\n",
    "    .groupby(['outward_code', 'bedrooms']).agg(\n",
    "        price=pd.NamedAgg('price_extracted', 'mean')\n",
    "    )\n",
    "    .reset_index()\n",
    "    .sort_values(by='price')\n",
    ")\n",
    "\n",
    "beds_2 = tmp.loc[tmp['bedrooms'] == 2, ['outward_code', 'price']]\n",
    "\n",
    "_, axis = plt.subplots(1, 1, figsize=(16, 16))\n",
    "\n",
    "sns.barplot(y=beds_2['outward_code'], x=beds_2['price'], orient='horizonal', ax=axis, palette=\"Blues_d\")\n",
    "plt.ticklabel_format(style='plain', axis='x')\n",
    "\n",
    "plt.show()\n",
    "\n",
    "# display(tmp)"
   ]
  },
  {
   "cell_type": "code",
   "execution_count": null,
   "metadata": {},
   "outputs": [],
   "source": []
  },
  {
   "cell_type": "code",
   "execution_count": null,
   "metadata": {},
   "outputs": [],
   "source": []
  },
  {
   "cell_type": "code",
   "execution_count": null,
   "metadata": {},
   "outputs": [],
   "source": []
  },
  {
   "cell_type": "code",
   "execution_count": null,
   "metadata": {},
   "outputs": [],
   "source": []
  },
  {
   "cell_type": "code",
   "execution_count": null,
   "metadata": {},
   "outputs": [],
   "source": []
  },
  {
   "cell_type": "code",
   "execution_count": null,
   "metadata": {},
   "outputs": [],
   "source": []
  },
  {
   "cell_type": "code",
   "execution_count": null,
   "metadata": {},
   "outputs": [],
   "source": []
  },
  {
   "cell_type": "code",
   "execution_count": null,
   "metadata": {},
   "outputs": [],
   "source": []
  },
  {
   "cell_type": "code",
   "execution_count": null,
   "metadata": {},
   "outputs": [],
   "source": []
  },
  {
   "cell_type": "code",
   "execution_count": null,
   "metadata": {},
   "outputs": [],
   "source": []
  },
  {
   "cell_type": "code",
   "execution_count": null,
   "metadata": {},
   "outputs": [],
   "source": []
  },
  {
   "cell_type": "code",
   "execution_count": null,
   "metadata": {},
   "outputs": [],
   "source": []
  },
  {
   "cell_type": "code",
   "execution_count": null,
   "metadata": {},
   "outputs": [],
   "source": []
  },
  {
   "cell_type": "code",
   "execution_count": null,
   "metadata": {},
   "outputs": [],
   "source": []
  }
 ],
 "metadata": {
  "kernelspec": {
   "display_name": "Python 3",
   "language": "python",
   "name": "python3"
  },
  "language_info": {
   "codemirror_mode": {
    "name": "ipython",
    "version": 3
   },
   "file_extension": ".py",
   "mimetype": "text/x-python",
   "name": "python",
   "nbconvert_exporter": "python",
   "pygments_lexer": "ipython3",
   "version": "3.7.9"
  }
 },
 "nbformat": 4,
 "nbformat_minor": 4
}
